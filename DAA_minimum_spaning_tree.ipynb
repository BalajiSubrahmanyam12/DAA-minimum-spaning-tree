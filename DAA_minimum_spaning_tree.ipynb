{
  "nbformat": 4,
  "nbformat_minor": 0,
  "metadata": {
    "colab": {
      "name": "DAA minimum spaning tree.ipynb",
      "provenance": []
    },
    "kernelspec": {
      "name": "python3",
      "display_name": "Python 3"
    },
    "language_info": {
      "name": "python"
    }
  },
  "cells": [
    {
      "cell_type": "code",
      "metadata": {
        "colab": {
          "base_uri": "https://localhost:8080/"
        },
        "id": "2e0WQOXs9R6-",
        "outputId": "394775f7-7690-43c3-abaa-070d923a96e2"
      },
      "source": [
        "N = 5\n",
        "G = [[0, 2, 7, 0, 0],\n",
        "[2, 0, 8, 5, 4],\n",
        "[7, 8, 0, 0, 2],\n",
        "[0, 5, 0, 0, 3],\n",
        "[0, 4, 2, 3, 0]]\n",
        "\n",
        "cur = [0, 0, 0, 0, 0]\n",
        "\n",
        "no_edge = 0\n",
        "\n",
        "cur[0] = True\n",
        "sum = 0\n",
        "\n",
        "while (no_edge&lt; N - 1):\n",
        "\n",
        "low = 9999999\n",
        "a = 0\n",
        "b = 0\n",
        "for m in range(N):\n",
        "if cur[m]:\n",
        "for n in range(N):\n",
        "if ((not cur[n]) and G[m][n]):\n",
        "\n",
        "if low &gt; G[m][n]:\n",
        "low = G[m][n]\n",
        "a = m\n",
        "b = n\n",
        "print(&quot;Node &quot; + str(a) + &quot; - &quot; + &quot;Node &quot; + str(b) + &quot; : &quot; + str(G[a][b]))\n",
        "cur[b] = True\n",
        "sum += int(str(G[a][b]))\n",
        "no_edge += 1\n",
        "print(&quot;Total Cost = &quot;,sum)"
      ],
      "execution_count": null,
      "outputs": [
        {
          "output_type": "error",
          "ename": "SyntaxError",
          "evalue": "ignored",
          "traceback": [
            "\u001b[0;36m  File \u001b[0;32m\"<ipython-input-1-7a8741ec202e>\"\u001b[0;36m, line \u001b[0;32m15\u001b[0m\n\u001b[0;31m    while (no_edge&lt; N - 1):\u001b[0m\n\u001b[0m                     ^\u001b[0m\n\u001b[0;31mSyntaxError\u001b[0m\u001b[0;31m:\u001b[0m invalid syntax\n"
          ]
        }
      ]
    }
  ]
}